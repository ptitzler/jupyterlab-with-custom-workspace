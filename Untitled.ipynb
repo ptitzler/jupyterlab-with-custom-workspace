{
 "cells": [
  {
   "cell_type": "markdown",
   "id": "2f82d7f6-e293-4312-8827-e31308c86112",
   "metadata": {},
   "source": [
    "## Who is there"
   ]
  },
  {
   "cell_type": "code",
   "execution_count": null,
   "id": "79bb431e-e27e-41bf-9b8c-63f69bf8e391",
   "metadata": {},
   "outputs": [],
   "source": [
    "print(\"Hello world\")"
   ]
  },
  {
   "cell_type": "markdown",
   "id": "1b3edcea-b339-4d64-8dd1-d970fc44f479",
   "metadata": {},
   "source": [
    "## See you later"
   ]
  },
  {
   "cell_type": "code",
   "execution_count": null,
   "id": "37569ad3-7552-471c-ac85-df29f9ff6cb5",
   "metadata": {},
   "outputs": [],
   "source": [
    "print(\"Goodbye world\")"
   ]
  }
 ],
 "metadata": {
  "kernelspec": {
   "display_name": "Python 3",
   "language": "python",
   "name": "python3"
  },
  "language_info": {
   "codemirror_mode": {
    "name": "ipython",
    "version": 3
   },
   "file_extension": ".py",
   "mimetype": "text/x-python",
   "name": "python",
   "nbconvert_exporter": "python",
   "pygments_lexer": "ipython3",
   "version": "3.7.10"
  }
 },
 "nbformat": 4,
 "nbformat_minor": 5
}
